{
 "cells": [
  {
   "cell_type": "code",
   "execution_count": 1,
   "id": "4c1bd76e",
   "metadata": {},
   "outputs": [],
   "source": [
    "import matplotlib.pyplot as plt\n",
    "import numpy as np\n",
    "import pandas as pd\n",
    "from scipy import stats"
   ]
  },
  {
   "cell_type": "markdown",
   "id": "0ec0240f",
   "metadata": {},
   "source": [
    "# For the following problems, use python to simulate the problem and calculate an experimental probability, then compare that to the theoretical probability.\n",
    "\n",
    "### 1. A bank found that the average number of cars waiting during the noon hour at a drive-up window follows a Poisson distribution with a mean of 2 cars. Make a chart of this distribution and answer these questions concerning the probability of cars waiting at the drive-up window."
   ]
  },
  {
   "cell_type": "code",
   "execution_count": 10,
   "id": "cd4bc76b",
   "metadata": {},
   "outputs": [
    {
     "data": {
      "image/png": "[encoded data removed]",
      "text/plain": [
       "<Figure size 432x288 with 1 Axes>"
      ]
     },
     "metadata": {
      "needs_background": "light"
     },
     "output_type": "display_data"
    }
   ],
   "source": [
    "λ = 2  #poisson distr requires only 1 input, lambda\n",
    "\n",
    "x=np.arange(0,10)  #create a range for our chart\n",
    "y=stats.poisson(λ).pmf(x)   #pmf function to draw chart: probability for every x in distr (the more xs, the more dedtail)\n",
    "\n",
    "plt.bar(x,y)\n",
    "plt.xlabel('No of cars drivethrough in noon hour')\n",
    "plt.ylabel('P(X)')\n",
    "plt.title('Poisson distribution $λ = 2$');"
   ]
  },
  {
   "cell_type": "code",
   "execution_count": null,
   "id": "f0e08859",
   "metadata": {},
   "outputs": [],
   "source": []
  },
  {
   "cell_type": "markdown",
   "id": "54d50d12",
   "metadata": {},
   "source": [
    "### 1.a. What is the probability that no cars drive up in the noon hour?\n"
   ]
  },
  {
   "cell_type": "code",
   "execution_count": 2,
   "id": "17750516",
   "metadata": {},
   "outputs": [
    {
     "data": {
      "text/plain": [
       "0.1353352832366127"
      ]
     },
     "execution_count": 2,
     "metadata": {},
     "output_type": "execute_result"
    }
   ],
   "source": [
    "stats.poisson(λ).pmf(0)"
   ]
  },
  {
   "cell_type": "code",
   "execution_count": null,
   "id": "0d515c4b",
   "metadata": {},
   "outputs": [],
   "source": []
  },
  {
   "cell_type": "markdown",
   "id": "255d7dbe",
   "metadata": {},
   "source": [
    "### 1.b.What is the probability that 3 or more cars come through the drive through?"
   ]
  },
  {
   "cell_type": "code",
   "execution_count": 6,
   "id": "00f5c290",
   "metadata": {},
   "outputs": [
    {
     "data": {
      "text/plain": [
       "0.32332358381693654"
      ]
     },
     "execution_count": 6,
     "metadata": {},
     "output_type": "execute_result"
    }
   ],
   "source": [
    "stats.poisson(λ).sf(2)"
   ]
  },
  {
   "cell_type": "code",
   "execution_count": null,
   "id": "e0d4a842",
   "metadata": {},
   "outputs": [],
   "source": []
  },
  {
   "cell_type": "markdown",
   "id": "b972dfc4",
   "metadata": {},
   "source": [
    "### 1.c. How likely is it that the drive through gets at least 1 car?"
   ]
  },
  {
   "cell_type": "code",
   "execution_count": 9,
   "id": "82c9a0ac",
   "metadata": {},
   "outputs": [
    {
     "data": {
      "text/plain": [
       "0.8646647167633873"
      ]
     },
     "execution_count": 9,
     "metadata": {},
     "output_type": "execute_result"
    }
   ],
   "source": [
    "stats.poisson(λ).sf(0)"
   ]
  },
  {
   "cell_type": "code",
   "execution_count": null,
   "id": "1a0b8d71",
   "metadata": {},
   "outputs": [],
   "source": []
  },
  {
   "cell_type": "markdown",
   "id": "b4adc205",
   "metadata": {},
   "source": [
    "### 2. Grades of State University graduates are normally distributed with a mean of 3.0 and a standard deviation of .3. Calculate the following:"
   ]
  },
  {
   "cell_type": "code",
   "execution_count": 31,
   "id": "8f6c757c",
   "metadata": {},
   "outputs": [
    {
     "data": {
      "image/png": "[encoded data removed]",
      "text/plain": [
       "<Figure size 432x288 with 1 Axes>"
      ]
     },
     "metadata": {
      "needs_background": "light"
     },
     "output_type": "display_data"
    }
   ],
   "source": [
    "μ = 3\n",
    "σ = .3\n",
    "\n",
    "x=np.arange(0,4,.01)  #create a range for our chart. .01 argument created the step\n",
    "y=stats.norm(μ,σ).pdf(x)   #pdf function to draw chart\n",
    "plt.ylim(top=2)\n",
    "plt.bar(x,y)\n",
    "plt.xlabel('distr of gpas')\n",
    "plt.ylabel('P(X)')\n",
    "plt.title('Normal distribution $μ = 3, σ = .3$');"
   ]
  },
  {
   "cell_type": "markdown",
   "id": "75556263",
   "metadata": {},
   "source": [
    "### 2.a. What grade point average is required to be in the top 5% of the graduating class?"
   ]
  },
  {
   "cell_type": "code",
   "execution_count": 23,
   "id": "0bb84a27",
   "metadata": {},
   "outputs": [
    {
     "data": {
      "text/plain": [
       "<scipy.stats._distn_infrastructure.rv_frozen at 0x7fe9d9662880>"
      ]
     },
     "execution_count": 23,
     "metadata": {},
     "output_type": "execute_result"
    }
   ],
   "source": [
    "μ = 3\n",
    "σ = .3\n",
    "\n",
    "gpa = stats.norm(μ,σ)\n",
    "gpa"
   ]
  },
  {
   "cell_type": "code",
   "execution_count": 24,
   "id": "8a8bf140",
   "metadata": {},
   "outputs": [
    {
     "data": {
      "text/plain": [
       "3.4934560880854417"
      ]
     },
     "execution_count": 24,
     "metadata": {},
     "output_type": "execute_result"
    }
   ],
   "source": [
    "gpa.isf(.05)"
   ]
  },
  {
   "cell_type": "code",
   "execution_count": null,
   "id": "3e42e3d7",
   "metadata": {},
   "outputs": [],
   "source": []
  },
  {
   "cell_type": "markdown",
   "id": "7455bbc2",
   "metadata": {},
   "source": [
    "### 2.b. What GPA constitutes the bottom 15% of the class?"
   ]
  },
  {
   "cell_type": "code",
   "execution_count": 25,
   "id": "fedea79e",
   "metadata": {},
   "outputs": [
    {
     "data": {
      "text/plain": [
       "2.689069983151863"
      ]
     },
     "execution_count": 25,
     "metadata": {},
     "output_type": "execute_result"
    }
   ],
   "source": [
    "gpa.ppf(.15)"
   ]
  },
  {
   "cell_type": "code",
   "execution_count": null,
   "id": "7f7c8ecf",
   "metadata": {},
   "outputs": [],
   "source": []
  },
  {
   "cell_type": "markdown",
   "id": "27f1e3da",
   "metadata": {},
   "source": [
    "### 2.c. An eccentric alumnus left scholarship money for students in the third decile from the bottom of their class. Determine the range of the third decile. Would a student with a 2.8 grade point average qualify for this scholarship?"
   ]
  },
  {
   "cell_type": "code",
   "execution_count": 32,
   "id": "e5179c98",
   "metadata": {},
   "outputs": [],
   "source": [
    "#aka bottom 30%\n",
    "#no...actually from 20% to 30%.  whoops"
   ]
  },
  {
   "cell_type": "code",
   "execution_count": 144,
   "id": "7f13e2c2",
   "metadata": {},
   "outputs": [
    {
     "data": {
      "text/plain": [
       "array([2.74751363, 2.84267985])"
      ]
     },
     "execution_count": 144,
     "metadata": {},
     "output_type": "execute_result"
    }
   ],
   "source": [
    "gpa.ppf([.2,.3]) #ppf b/c we are given a %. YOU CAN PASS A RANGE HERE\n",
    "#2.84 gpa is the cutoff, so yes, they would qualify"
   ]
  },
  {
   "cell_type": "code",
   "execution_count": null,
   "id": "6f8219de",
   "metadata": {},
   "outputs": [],
   "source": []
  },
  {
   "cell_type": "markdown",
   "id": "bed25a2b",
   "metadata": {},
   "source": [
    "### 2.d. If I have a GPA of 3.5, what percentile am I in?"
   ]
  },
  {
   "cell_type": "code",
   "execution_count": 145,
   "id": "f34c78f2",
   "metadata": {},
   "outputs": [
    {
     "data": {
      "text/plain": [
       "0.9522096477271853"
      ]
     },
     "execution_count": 145,
     "metadata": {},
     "output_type": "execute_result"
    }
   ],
   "source": [
    "gpa.cdf(3.5)\n",
    "#continuous data type, point-specific location...pdf.  still doubting my answer"
   ]
  },
  {
   "cell_type": "code",
   "execution_count": 146,
   "id": "222230a2",
   "metadata": {},
   "outputs": [
    {
     "data": {
      "text/plain": [
       "array([2.54219678, 2.94747115, 3.40713893, ..., 3.01278868, 3.2240706 ,\n",
       "       2.54519865])"
      ]
     },
     "execution_count": 146,
     "metadata": {},
     "output_type": "execute_result"
    }
   ],
   "source": [
    "#by simulation\n",
    "np.random.normal(3,.3,100_000)"
   ]
  },
  {
   "cell_type": "code",
   "execution_count": 148,
   "id": "a6e41317",
   "metadata": {},
   "outputs": [
    {
     "data": {
      "text/plain": [
       "0.95436"
      ]
     },
     "execution_count": 148,
     "metadata": {},
     "output_type": "execute_result"
    }
   ],
   "source": [
    "(np.random.normal(3,.3,100_000) <3.5).mean()"
   ]
  },
  {
   "cell_type": "markdown",
   "id": "c7fa71e3",
   "metadata": {},
   "source": [
    "### 3. A marketing website has an average click-through rate of 2%. One day they observe 4326 visitors and 97 click-throughs. How likely is it that this many people or more click through?"
   ]
  },
  {
   "cell_type": "code",
   "execution_count": 127,
   "id": "33840ccf",
   "metadata": {},
   "outputs": [
    {
     "data": {
      "text/plain": [
       "<BarContainer object of 100 artists>"
      ]
     },
     "execution_count": 127,
     "metadata": {},
     "output_type": "execute_result"
    },
    {
     "data": {
      "image/png": "[encoded data removed]",
      "text/plain": [
       "<Figure size 432x288 with 1 Axes>"
      ]
     },
     "metadata": {
      "needs_background": "light"
     },
     "output_type": "display_data"
    }
   ],
   "source": [
    "#this is a binomial distr--'yes' or 'no' on clickthrough\n",
    "p = .02 #prob of success\n",
    "n_trials = 4326\n",
    "x = np.arange(40,140)\n",
    "y = stats.binom(n_trials,p).pmf(x)\n",
    "\n",
    "plt.bar(x,y)\n",
    "\n",
    "#ok, work on getting this graph"
   ]
  },
  {
   "cell_type": "code",
   "execution_count": 59,
   "id": "65a80b38",
   "metadata": {},
   "outputs": [
    {
     "data": {
      "text/plain": [
       "<scipy.stats._distn_infrastructure.rv_frozen at 0x7fe9dd0cac70>"
      ]
     },
     "execution_count": 59,
     "metadata": {},
     "output_type": "execute_result"
    }
   ],
   "source": [
    "#this is a binomial distr--'yes' or 'no' on clickthrough\n",
    "p = .02 #prob of success\n",
    "n_trials = 4326\n",
    "\n",
    "clicks = stats.binom(n_trials, p)\n",
    "clicks"
   ]
  },
  {
   "cell_type": "code",
   "execution_count": 69,
   "id": "7bd18eff",
   "metadata": {},
   "outputs": [
    {
     "data": {
      "text/plain": [
       "0.1397582363130086"
      ]
     },
     "execution_count": 69,
     "metadata": {},
     "output_type": "execute_result"
    }
   ],
   "source": [
    "clicks.sf(96)"
   ]
  },
  {
   "cell_type": "code",
   "execution_count": 150,
   "id": "ef44a60c",
   "metadata": {},
   "outputs": [
    {
     "data": {
      "text/plain": [
       "array([[0, 1, 0, ..., 0, 0, 0],\n",
       "       [0, 0, 0, ..., 0, 0, 0],\n",
       "       [0, 0, 0, ..., 0, 0, 0],\n",
       "       ...,\n",
       "       [0, 0, 0, ..., 0, 0, 0],\n",
       "       [0, 0, 0, ..., 0, 0, 0],\n",
       "       [0, 0, 0, ..., 0, 0, 0]])"
      ]
     },
     "execution_count": 150,
     "metadata": {},
     "output_type": "execute_result"
    }
   ],
   "source": [
    "#simulation\n",
    "clicks_sim = np.random.choice([0,1],size=(10_000, 4326),p=(.98,.02))\n",
    "clicks_sim"
   ]
  },
  {
   "cell_type": "code",
   "execution_count": 151,
   "id": "86ba686d",
   "metadata": {},
   "outputs": [
    {
     "data": {
      "text/plain": [
       "0.1385"
      ]
     },
     "execution_count": 151,
     "metadata": {},
     "output_type": "execute_result"
    }
   ],
   "source": [
    "(clicks_sim.sum(axis=1) >= 97).mean()"
   ]
  },
  {
   "cell_type": "code",
   "execution_count": 152,
   "id": "695be45c",
   "metadata": {},
   "outputs": [],
   "source": [
    "#using poisson approx:"
   ]
  },
  {
   "cell_type": "code",
   "execution_count": 153,
   "id": "fe32cf57",
   "metadata": {},
   "outputs": [],
   "source": [
    "λ = n_trials* p"
   ]
  },
  {
   "cell_type": "code",
   "execution_count": 154,
   "id": "b8ff3888",
   "metadata": {},
   "outputs": [
    {
     "data": {
      "text/plain": [
       "0.14211867659283192"
      ]
     },
     "execution_count": 154,
     "metadata": {},
     "output_type": "execute_result"
    }
   ],
   "source": [
    "stats.poisson(λ).sf(96)"
   ]
  },
  {
   "cell_type": "code",
   "execution_count": null,
   "id": "69ab8099",
   "metadata": {},
   "outputs": [],
   "source": []
  },
  {
   "cell_type": "markdown",
   "id": "9840bc36",
   "metadata": {},
   "source": [
    "### 4. You are working on some statistics homework consisting of 100 questions where all of the answers are a probability rounded to the hundreths place. Looking to save time, you put down random probabilities as the answer to each question.\n",
    "\n",
    "- What is the probability that at least one of your first 60 answers is correct?"
   ]
  },
  {
   "cell_type": "code",
   "execution_count": 63,
   "id": "7ac166af",
   "metadata": {},
   "outputs": [
    {
     "data": {
      "text/plain": [
       "<scipy.stats._distn_infrastructure.rv_frozen at 0x7fe9dc2c7550>"
      ]
     },
     "execution_count": 63,
     "metadata": {},
     "output_type": "execute_result"
    }
   ],
   "source": [
    "#this is binomial info: number of trials and probability of success\n",
    "\n",
    "p = .01\n",
    "n_trials = 60\n",
    "\n",
    "homework = stats.binom(n_trials, p)\n",
    "homework"
   ]
  },
  {
   "cell_type": "code",
   "execution_count": 65,
   "id": "8b377f5b",
   "metadata": {},
   "outputs": [
    {
     "data": {
      "text/plain": [
       "0.4528433576092388"
      ]
     },
     "execution_count": 65,
     "metadata": {},
     "output_type": "execute_result"
    }
   ],
   "source": [
    "homework.sf(0)"
   ]
  },
  {
   "cell_type": "code",
   "execution_count": 156,
   "id": "fbbc4868",
   "metadata": {},
   "outputs": [
    {
     "data": {
      "text/plain": [
       "0.45367"
      ]
     },
     "execution_count": 156,
     "metadata": {},
     "output_type": "execute_result"
    }
   ],
   "source": [
    "#simulation\n",
    "(np.random.choice([0,1],size = (100_000, 60), p =(.99,.01)).sum(axis=1)>0).mean()"
   ]
  },
  {
   "cell_type": "code",
   "execution_count": null,
   "id": "653f2ae7",
   "metadata": {},
   "outputs": [],
   "source": []
  },
  {
   "cell_type": "code",
   "execution_count": null,
   "id": "ffc5c221",
   "metadata": {},
   "outputs": [],
   "source": []
  },
  {
   "cell_type": "markdown",
   "id": "a469dd34",
   "metadata": {},
   "source": [
    "### 5. The codeup staff tends to get upset when the student break area is not cleaned up. Suppose that there's a 3% chance that any one student cleans the break area when they visit it, and, on any given day, about 90% of the 3 active cohorts of 22 students visit the break area. \n",
    "\n",
    "### 5.a. How likely is it that the break area gets cleaned up each day? "
   ]
  },
  {
   "cell_type": "code",
   "execution_count": 158,
   "id": "348805e5",
   "metadata": {},
   "outputs": [
    {
     "data": {
      "text/plain": [
       "<scipy.stats._distn_infrastructure.rv_frozen at 0x7fe9864440d0>"
      ]
     },
     "execution_count": 158,
     "metadata": {},
     "output_type": "execute_result"
    }
   ],
   "source": [
    "#binomial bc it's 'success' vs 'failure'...\n",
    "\n",
    "n_trials = 22 * .9 * 3\n",
    "p = .03\n",
    "\n",
    "clean = stats.binom(n_trials,p)\n",
    "clean"
   ]
  },
  {
   "cell_type": "code",
   "execution_count": 159,
   "id": "89fca1b3",
   "metadata": {},
   "outputs": [
    {
     "data": {
      "text/plain": [
       "Text(0.5, 0, 'number of times area is cleaned per day')"
      ]
     },
     "execution_count": 159,
     "metadata": {},
     "output_type": "execute_result"
    },
    {
     "data": {
      "image/png": "[encoded data removed]",
      "text/plain": [
       "<Figure size 432x288 with 1 Axes>"
      ]
     },
     "metadata": {
      "needs_background": "light"
     },
     "output_type": "display_data"
    }
   ],
   "source": [
    "x=np.arange(0,10)\n",
    "y=stats.binom(n_trials,p).pmf(x)\n",
    "plt.bar(x,y)\n",
    "plt.xlabel('number of times area is cleaned per day')"
   ]
  },
  {
   "cell_type": "code",
   "execution_count": 160,
   "id": "a767f45d",
   "metadata": {},
   "outputs": [
    {
     "data": {
      "text/plain": [
       "0.8342199288437355"
      ]
     },
     "execution_count": 160,
     "metadata": {},
     "output_type": "execute_result"
    }
   ],
   "source": [
    "clean.sf(0)\n",
    "#sf bc we're looking for success for above 0"
   ]
  },
  {
   "cell_type": "markdown",
   "id": "7769a3fe",
   "metadata": {},
   "source": [
    "### 5.b. How likely is it that it goes two days without getting cleaned up? All week?"
   ]
  },
  {
   "cell_type": "code",
   "execution_count": 161,
   "id": "4b8c2cc2",
   "metadata": {},
   "outputs": [
    {
     "data": {
      "text/plain": [
       "0.026821436301629083"
      ]
     },
     "execution_count": 161,
     "metadata": {},
     "output_type": "execute_result"
    }
   ],
   "source": [
    "n_trials = 22 * .9 * 3 *2\n",
    "p = .03\n",
    "\n",
    "stats.binom(n_trials,p).pmf(0)\n",
    "#pmf bc we are looking to see if exactly 0 clean it"
   ]
  },
  {
   "cell_type": "code",
   "execution_count": 96,
   "id": "57f4d4d1",
   "metadata": {},
   "outputs": [
    {
     "data": {
      "text/plain": [
       "0.00011781621791055166"
      ]
     },
     "execution_count": 96,
     "metadata": {},
     "output_type": "execute_result"
    }
   ],
   "source": [
    "n_trials = 22 * .9 * 3 * 5\n",
    "p = .03\n",
    "\n",
    "stats.binom(n_trials, p).pmf(0)"
   ]
  },
  {
   "cell_type": "markdown",
   "id": "bb35be39",
   "metadata": {},
   "source": [
    "### 6. You want to get lunch at La Panaderia, but notice that the line is usually very long at lunchtime. After several weeks of careful observation, you notice that the average number of people in line when your lunch break starts is normally distributed with a mean of 15 and standard deviation of 3. If it takes 2 minutes for each person to order, and 10 minutes from ordering to getting your food, what is the likelihood that you have at least 15 minutes left to eat your food before you have to go back to class? Assume you have one hour for lunch, and ignore travel time to and from La Panaderia."
   ]
  },
  {
   "cell_type": "code",
   "execution_count": 164,
   "id": "524abe59",
   "metadata": {},
   "outputs": [
    {
     "data": {
      "text/plain": [
       "<scipy.stats._distn_infrastructure.rv_frozen at 0x7fe9869ef190>"
      ]
     },
     "execution_count": 164,
     "metadata": {},
     "output_type": "execute_result"
    }
   ],
   "source": [
    "#normal distr\n",
    "μ = 15 * 2 #number of people times time to order\n",
    "σ = 3 * 2 #the std_dev of people times order time\n",
    "\n",
    "time_to_order = 2\n",
    "time_for_serv = 10\n",
    "\n",
    "lunch = stats.norm(μ, σ)\n",
    "lunch"
   ]
  },
  {
   "cell_type": "code",
   "execution_count": 165,
   "id": "ae15ea27",
   "metadata": {},
   "outputs": [
    {
     "data": {
      "text/plain": [
       "0.6914624612740131"
      ]
     },
     "execution_count": 165,
     "metadata": {},
     "output_type": "execute_result"
    }
   ],
   "source": [
    "lunch.cdf(33)\n",
    "#cdf for likelihood below 45 minutes, but add 10 minutes to the wait and 2 minutes for your own order time"
   ]
  },
  {
   "cell_type": "code",
   "execution_count": 166,
   "id": "ab916018",
   "metadata": {},
   "outputs": [
    {
     "data": {
      "text/plain": [
       "<matplotlib.lines.Line2D at 0x7fe9869cf940>"
      ]
     },
     "execution_count": 166,
     "metadata": {},
     "output_type": "execute_result"
    },
    {
     "data": {
      "image/png": "[encoded data removed]",
      "text/plain": [
       "<Figure size 432x288 with 1 Axes>"
      ]
     },
     "metadata": {
      "needs_background": "light"
     },
     "output_type": "display_data"
    }
   ],
   "source": [
    "x=np.arange(0,60,.1)\n",
    "y=stats.norm(μ,σ).pdf(x)\n",
    "\n",
    "plt.plot(x,y)\n",
    "plt.axvline(35,ls='--')"
   ]
  },
  {
   "cell_type": "code",
   "execution_count": 167,
   "id": "5941ecca",
   "metadata": {},
   "outputs": [
    {
     "data": {
      "text/plain": [
       "28.262247515069948"
      ]
     },
     "execution_count": 167,
     "metadata": {},
     "output_type": "execute_result"
    }
   ],
   "source": [
    "#simulation\n",
    "np.random.normal(30,6,)"
   ]
  },
  {
   "cell_type": "code",
   "execution_count": 168,
   "id": "dfb796d9",
   "metadata": {},
   "outputs": [
    {
     "data": {
      "text/plain": [
       "0.69337"
      ]
     },
     "execution_count": 168,
     "metadata": {},
     "output_type": "execute_result"
    }
   ],
   "source": [
    "(np.random.normal(30,6,100_000) <= 33).mean()"
   ]
  },
  {
   "cell_type": "code",
   "execution_count": null,
   "id": "6bd340d5",
   "metadata": {},
   "outputs": [],
   "source": []
  },
  {
   "cell_type": "markdown",
   "id": "3239ee7c",
   "metadata": {},
   "source": [
    "### 7. Connect to the employees database and find the average salary of current employees, along with the standard deviation. For the following questions, calculate the answer based on modeling the employees salaries with a normal distribution defined by the calculated mean and standard deviation then compare this answer to the actual values present in the salaries dataset."
   ]
  },
  {
   "cell_type": "code",
   "execution_count": 121,
   "id": "c6c6860e",
   "metadata": {},
   "outputs": [],
   "source": [
    "from get_db_url import get_db_url\n",
    "#imported my get database url function"
   ]
  },
  {
   "cell_type": "code",
   "execution_count": 171,
   "id": "0389647d",
   "metadata": {},
   "outputs": [],
   "source": [
    "sql = \"\"\"\n",
    "    SELECT * from salaries\n",
    "    WHERE to_date = NOW\n",
    "\"\"\"\n",
    "#write some sql to get the data i need"
   ]
  },
  {
   "cell_type": "code",
   "execution_count": 172,
   "id": "72f1678a",
   "metadata": {
    "scrolled": true
   },
   "outputs": [
    {
     "data": {
      "text/html": [
       "<div>\n",
       "<style scoped>\n",
       "    .dataframe tbody tr th:only-of-type {\n",
       "        vertical-align: middle;\n",
       "    }\n",
       "\n",
       "    .dataframe tbody tr th {\n",
       "        vertical-align: top;\n",
       "    }\n",
       "\n",
       "    .dataframe thead th {\n",
       "        text-align: right;\n",
       "    }\n",
       "</style>\n",
       "<table border=\"1\" class=\"dataframe\">\n",
       "  <thead>\n",
       "    <tr style=\"text-align: right;\">\n",
       "      <th></th>\n",
       "      <th>emp_no</th>\n",
       "      <th>salary</th>\n",
       "      <th>from_date</th>\n",
       "      <th>to_date</th>\n",
       "    </tr>\n",
       "  </thead>\n",
       "  <tbody>\n",
       "    <tr>\n",
       "      <th>0</th>\n",
       "      <td>10001</td>\n",
       "      <td>60117</td>\n",
       "      <td>1986-06-26</td>\n",
       "      <td>1987-06-26</td>\n",
       "    </tr>\n",
       "    <tr>\n",
       "      <th>1</th>\n",
       "      <td>10001</td>\n",
       "      <td>62102</td>\n",
       "      <td>1987-06-26</td>\n",
       "      <td>1988-06-25</td>\n",
       "    </tr>\n",
       "    <tr>\n",
       "      <th>2</th>\n",
       "      <td>10001</td>\n",
       "      <td>66074</td>\n",
       "      <td>1988-06-25</td>\n",
       "      <td>1989-06-25</td>\n",
       "    </tr>\n",
       "    <tr>\n",
       "      <th>3</th>\n",
       "      <td>10001</td>\n",
       "      <td>66596</td>\n",
       "      <td>1989-06-25</td>\n",
       "      <td>1990-06-25</td>\n",
       "    </tr>\n",
       "    <tr>\n",
       "      <th>4</th>\n",
       "      <td>10001</td>\n",
       "      <td>66961</td>\n",
       "      <td>1990-06-25</td>\n",
       "      <td>1991-06-25</td>\n",
       "    </tr>\n",
       "  </tbody>\n",
       "</table>\n",
       "</div>"
      ],
      "text/plain": [
       "   emp_no  salary   from_date     to_date\n",
       "0   10001   60117  1986-06-26  1987-06-26\n",
       "1   10001   62102  1987-06-26  1988-06-25\n",
       "2   10001   66074  1988-06-25  1989-06-25\n",
       "3   10001   66596  1989-06-25  1990-06-25\n",
       "4   10001   66961  1990-06-25  1991-06-25"
      ]
     },
     "execution_count": 172,
     "metadata": {},
     "output_type": "execute_result"
    }
   ],
   "source": [
    "url = get_db_url('employees')\n",
    "salaries_df = pd.read_sql(sql,url)\n",
    "salaries_df.head()\n",
    "#read the sql into python"
   ]
  },
  {
   "cell_type": "code",
   "execution_count": 130,
   "id": "d4276fb8",
   "metadata": {},
   "outputs": [
    {
     "data": {
      "text/html": [
       "<div>\n",
       "<style scoped>\n",
       "    .dataframe tbody tr th:only-of-type {\n",
       "        vertical-align: middle;\n",
       "    }\n",
       "\n",
       "    .dataframe tbody tr th {\n",
       "        vertical-align: top;\n",
       "    }\n",
       "\n",
       "    .dataframe thead th {\n",
       "        text-align: right;\n",
       "    }\n",
       "</style>\n",
       "<table border=\"1\" class=\"dataframe\">\n",
       "  <thead>\n",
       "    <tr style=\"text-align: right;\">\n",
       "      <th></th>\n",
       "      <th>emp_no</th>\n",
       "      <th>salary</th>\n",
       "      <th>from_date</th>\n",
       "      <th>to_date</th>\n",
       "    </tr>\n",
       "  </thead>\n",
       "  <tbody>\n",
       "    <tr>\n",
       "      <th>0</th>\n",
       "      <td>10001</td>\n",
       "      <td>60117</td>\n",
       "      <td>1986-06-26</td>\n",
       "      <td>1987-06-26</td>\n",
       "    </tr>\n",
       "    <tr>\n",
       "      <th>1</th>\n",
       "      <td>10001</td>\n",
       "      <td>62102</td>\n",
       "      <td>1987-06-26</td>\n",
       "      <td>1988-06-25</td>\n",
       "    </tr>\n",
       "    <tr>\n",
       "      <th>2</th>\n",
       "      <td>10001</td>\n",
       "      <td>66074</td>\n",
       "      <td>1988-06-25</td>\n",
       "      <td>1989-06-25</td>\n",
       "    </tr>\n",
       "    <tr>\n",
       "      <th>3</th>\n",
       "      <td>10001</td>\n",
       "      <td>66596</td>\n",
       "      <td>1989-06-25</td>\n",
       "      <td>1990-06-25</td>\n",
       "    </tr>\n",
       "    <tr>\n",
       "      <th>4</th>\n",
       "      <td>10001</td>\n",
       "      <td>66961</td>\n",
       "      <td>1990-06-25</td>\n",
       "      <td>1991-06-25</td>\n",
       "    </tr>\n",
       "  </tbody>\n",
       "</table>\n",
       "</div>"
      ],
      "text/plain": [
       "   emp_no  salary   from_date     to_date\n",
       "0   10001   60117  1986-06-26  1987-06-26\n",
       "1   10001   62102  1987-06-26  1988-06-25\n",
       "2   10001   66074  1988-06-25  1989-06-25\n",
       "3   10001   66596  1989-06-25  1990-06-25\n",
       "4   10001   66961  1990-06-25  1991-06-25"
      ]
     },
     "execution_count": 130,
     "metadata": {},
     "output_type": "execute_result"
    }
   ],
   "source": [
    "salaries_df = pd.DataFrame(salaries_df)\n",
    "salaries_df.head()\n",
    "#convert the table into a pandas dataframe"
   ]
  },
  {
   "cell_type": "code",
   "execution_count": 131,
   "id": "f956138c",
   "metadata": {},
   "outputs": [
    {
     "name": "stdout",
     "output_type": "stream",
     "text": [
      "<class 'pandas.core.frame.DataFrame'>\n",
      "RangeIndex: 2844047 entries, 0 to 2844046\n",
      "Data columns (total 4 columns):\n",
      " #   Column     Dtype \n",
      "---  ------     ----- \n",
      " 0   emp_no     int64 \n",
      " 1   salary     int64 \n",
      " 2   from_date  object\n",
      " 3   to_date    object\n",
      "dtypes: int64(2), object(2)\n",
      "memory usage: 86.8+ MB\n"
     ]
    }
   ],
   "source": [
    "salaries_df.info()"
   ]
  },
  {
   "cell_type": "code",
   "execution_count": 133,
   "id": "e8d1aa67",
   "metadata": {},
   "outputs": [
    {
     "data": {
      "text/plain": [
       "63810.744836143705"
      ]
     },
     "execution_count": 133,
     "metadata": {},
     "output_type": "execute_result"
    }
   ],
   "source": [
    "#find the average salary of current employees, along with the standard deviation\n",
    "avg_sal = salaries_df.salary.mean()\n",
    "avg_sal"
   ]
  },
  {
   "cell_type": "code",
   "execution_count": 135,
   "id": "be0b024d",
   "metadata": {},
   "outputs": [
    {
     "data": {
      "text/plain": [
       "16904.831259952276"
      ]
     },
     "execution_count": 135,
     "metadata": {},
     "output_type": "execute_result"
    }
   ],
   "source": [
    "salary_stddev = salaries_df.salary.std()\n",
    "salary_stddev"
   ]
  },
  {
   "cell_type": "code",
   "execution_count": 136,
   "id": "89f6e4e0",
   "metadata": {},
   "outputs": [
    {
     "data": {
      "text/plain": [
       "<scipy.stats._distn_infrastructure.rv_frozen at 0x7fe9c739bb50>"
      ]
     },
     "execution_count": 136,
     "metadata": {},
     "output_type": "execute_result"
    }
   ],
   "source": [
    "μ = avg_sal\n",
    "σ = salary_stddev\n",
    "\n",
    "salary_stats = stats.norm(μ,σ)\n",
    "salary_stats\n"
   ]
  },
  {
   "cell_type": "code",
   "execution_count": 137,
   "id": "e0f862ff",
   "metadata": {},
   "outputs": [
    {
     "data": {
      "image/png": "[encoded data removed]",
      "text/plain": [
       "<Figure size 432x288 with 1 Axes>"
      ]
     },
     "metadata": {
      "needs_background": "light"
     },
     "output_type": "display_data"
    }
   ],
   "source": [
    "μ = avg_sal\n",
    "σ = salary_stddev\n",
    "\n",
    "x=np.arange(20_000,100_000)  #create a range for our chart\n",
    "y=stats.norm(μ,σ).pdf(x)   #pdf function to draw chart\n",
    "#plt.ylim(top=2)\n",
    "plt.bar(x,y)\n",
    "plt.xlabel('distr of salaries')\n",
    "plt.ylabel('P(X)')\n",
    "plt.title('Normal distribution of salaries');"
   ]
  },
  {
   "cell_type": "code",
   "execution_count": null,
   "id": "915cc46b",
   "metadata": {},
   "outputs": [],
   "source": []
  },
  {
   "cell_type": "markdown",
   "id": "a5dd4b41",
   "metadata": {},
   "source": [
    "### 7.a. What percent of employees earn less than 60,000?"
   ]
  },
  {
   "cell_type": "code",
   "execution_count": 138,
   "id": "af011b39",
   "metadata": {},
   "outputs": [
    {
     "data": {
      "text/plain": [
       "0.41082494791346336"
      ]
     },
     "execution_count": 138,
     "metadata": {},
     "output_type": "execute_result"
    }
   ],
   "source": [
    "salary_stats.cdf(60_000)"
   ]
  },
  {
   "cell_type": "code",
   "execution_count": null,
   "id": "d8f1726e",
   "metadata": {},
   "outputs": [],
   "source": []
  },
  {
   "cell_type": "markdown",
   "id": "e2c71158",
   "metadata": {},
   "source": [
    "### 7.b. What percent of employees earn more than 95,000?"
   ]
  },
  {
   "cell_type": "code",
   "execution_count": 139,
   "id": "1454b00e",
   "metadata": {},
   "outputs": [
    {
     "data": {
      "text/plain": [
       "0.03252375415623144"
      ]
     },
     "execution_count": 139,
     "metadata": {},
     "output_type": "execute_result"
    }
   ],
   "source": [
    "salary_stats.sf(95_000)"
   ]
  },
  {
   "cell_type": "code",
   "execution_count": null,
   "id": "d6d0b4d9",
   "metadata": {},
   "outputs": [],
   "source": []
  },
  {
   "cell_type": "code",
   "execution_count": null,
   "id": "20e56481",
   "metadata": {},
   "outputs": [],
   "source": []
  },
  {
   "cell_type": "markdown",
   "id": "77b7aa75",
   "metadata": {},
   "source": [
    "### 7.c. What percent of employees earn between 65,000 and 80,000?"
   ]
  },
  {
   "cell_type": "code",
   "execution_count": 142,
   "id": "7a4b1949",
   "metadata": {},
   "outputs": [
    {
     "data": {
      "text/plain": [
       "0.30284302293987486"
      ]
     },
     "execution_count": 142,
     "metadata": {},
     "output_type": "execute_result"
    }
   ],
   "source": [
    "salary_stats.cdf(80_000)-salary_stats.cdf(65_000)"
   ]
  },
  {
   "cell_type": "code",
   "execution_count": null,
   "id": "3be73790",
   "metadata": {},
   "outputs": [],
   "source": [
    "#ravinder code.  make sure it runs\n",
    "np.dff(stats.norm(mean,stddev).cdf([65000,80000]))"
   ]
  },
  {
   "cell_type": "code",
   "execution_count": null,
   "id": "17a81e9b",
   "metadata": {},
   "outputs": [],
   "source": []
  },
  {
   "cell_type": "markdown",
   "id": "177aaa80",
   "metadata": {},
   "source": [
    "### 7.d. What do the top 5% of employees make?"
   ]
  },
  {
   "cell_type": "code",
   "execution_count": 141,
   "id": "bd67ad3a",
   "metadata": {},
   "outputs": [
    {
     "data": {
      "text/plain": [
       "91616.71784707883"
      ]
     },
     "execution_count": 141,
     "metadata": {},
     "output_type": "execute_result"
    }
   ],
   "source": [
    "salary_stats.isf(.05)"
   ]
  },
  {
   "cell_type": "code",
   "execution_count": null,
   "id": "f46e765e",
   "metadata": {},
   "outputs": [],
   "source": [
    "#are the salaries really normally distributd\n",
    "salaries.salary.hist(bins=30)"
   ]
  },
  {
   "cell_type": "code",
   "execution_count": null,
   "id": "5d257076",
   "metadata": {},
   "outputs": [],
   "source": []
  }
 ],
 "metadata": {
  "kernelspec": {
   "display_name": "Python 3",
   "language": "python",
   "name": "python3"
  },
  "language_info": {
   "codemirror_mode": {
    "name": "ipython",
    "version": 3
   },
   "file_extension": ".py",
   "mimetype": "text/x-python",
   "name": "python",
   "nbconvert_exporter": "python",
   "pygments_lexer": "ipython3",
   "version": "3.8.8"
  }
 },
 "nbformat": 4,
 "nbformat_minor": 5
}
