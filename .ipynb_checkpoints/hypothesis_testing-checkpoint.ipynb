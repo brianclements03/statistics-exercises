{
 "cells": [
  {
   "cell_type": "markdown",
   "id": "203cf738",
   "metadata": {},
   "source": [
    "## Has the network latency gone up since we switched internet service providers?"
   ]
  },
  {
   "cell_type": "markdown",
   "id": "4d83b7cd",
   "metadata": {},
   "source": [
    "Reword: What is our current network latency and how does it compare to the previous latency?\n",
    "\n",
    "H_0: Changing ISP did not affect latency\n",
    "\n",
    "H_A: Changining ISP increased latency\n",
    "\n",
    "True Negative: We do not think latency changed, and it didn't\n",
    "False Negative: We do not think latency changed, but it did\n",
    "False Positive: We think latency changed, but it didn't\n",
    "True Positive: We think latency changed, and it did"
   ]
  },
  {
   "cell_type": "markdown",
   "id": "6568daea",
   "metadata": {},
   "source": [
    "## Is the website redesign any good?"
   ]
  },
  {
   "cell_type": "markdown",
   "id": "bb81abcc",
   "metadata": {},
   "source": [
    "Reword: Is customer perception of the new design positive?\n",
    "\n",
    "H_0: Customer perception is unchanged\n",
    "\n",
    "H_A: Custome perception has improved\n",
    "\n",
    "True Negative: We do not think perception changed, and it didn't\n",
    "False Negative: We do not think perception changed, but it did\n",
    "False Positive: We think perception changed, but it didn't\n",
    "True Positive: We think perception changed, and it did"
   ]
  },
  {
   "cell_type": "markdown",
   "id": "886d40b3",
   "metadata": {},
   "source": [
    "## Is our television ad driving more sales?"
   ]
  },
  {
   "cell_type": "markdown",
   "id": "ae705cd8",
   "metadata": {},
   "source": [
    "Reword: Since the release of the new ad, what has happened to sales?\n",
    "\n",
    "H_0: Sales have stayed the same\n",
    "\n",
    "H_A: Sales have increased\n",
    "\n",
    "True Negative: We do not think sales went up, and they didn't\n",
    "False Negative: We do not think sales went up, but they did\n",
    "False Positive: We think sales increased, but they didn't\n",
    "True Positive: We think sales increased, and they did"
   ]
  }
 ],
 "metadata": {
  "kernelspec": {
   "display_name": "Python 3",
   "language": "python",
   "name": "python3"
  },
  "language_info": {
   "codemirror_mode": {
    "name": "ipython",
    "version": 3
   },
   "file_extension": ".py",
   "mimetype": "text/x-python",
   "name": "python",
   "nbconvert_exporter": "python",
   "pygments_lexer": "ipython3",
   "version": "3.8.8"
  }
 },
 "nbformat": 4,
 "nbformat_minor": 5
}
