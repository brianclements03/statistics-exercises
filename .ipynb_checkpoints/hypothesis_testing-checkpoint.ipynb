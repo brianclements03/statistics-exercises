{
 "cells": [
  {
   "cell_type": "markdown",
   "id": "7ffe7282",
   "metadata": {},
   "source": [
    "### Has the network latency gone up since we switched internet service providers?"
   ]
  },
  {
   "cell_type": "markdown",
   "id": "7d8e8326",
   "metadata": {},
   "source": [
    "Reword: What is our current network latency and how does it compare to the previous latency?\n",
    "\n",
    "H_0: Changing ISP did not affect latency\n",
    "\n",
    "H_A: Changining ISP increased latency\n",
    "\n",
    "True Negative: We do not think latency changed, and it didn't\n",
    "False Negative: We do not think latency changed, but it did\n",
    "False Positive: We think latency changed, but it didn't\n",
    "True Positive: We think latency changed, and it did"
   ]
  },
  {
   "cell_type": "markdown",
   "id": "29624a65",
   "metadata": {},
   "source": [
    "### Is the website redesign any good?"
   ]
  },
  {
   "cell_type": "markdown",
   "id": "8247f10a",
   "metadata": {},
   "source": [
    "Reword: Is customer perception of the new design positive?\n",
    "\n",
    "H_0: Customer perception is unchanged\n",
    "\n",
    "H_A: Custome perception has improved\n",
    "\n",
    "True Negative: We do not think perception changed, and it didn't\n",
    "False Negative: We do not think perception changed, but it did\n",
    "False Positive: We think perception changed, but it didn't\n",
    "True Positive: We think perception changed, and it did"
   ]
  },
  {
   "cell_type": "markdown",
   "id": "7e4880ab",
   "metadata": {},
   "source": [
    "### Is our television ad driving more sales?"
   ]
  },
  {
   "cell_type": "markdown",
   "id": "69755c1c",
   "metadata": {},
   "source": [
    "Reword: Since the release of the new ad, what has happened to sales?\n",
    "\n",
    "H_0: Sales have stayed the same-->as relates to the ad\n",
    "\n",
    "H_A: Sales have increased\n",
    "\n",
    "True Negative: We do not think sales went up, and they didn't\n",
    "False Negative: We do not think sales went up, but they did\n",
    "False Positive: We think sales increased, but they didn't\n",
    "True Positive: We think sales increased, and they did"
   ]
  },
  {
   "cell_type": "markdown",
   "id": "487ebdb5",
   "metadata": {},
   "source": [
    "## Ace Realty wants to determine whether the average time it takes to sell homes is different for its two offices. \n",
    "- A sample of 40 sales from office #1 revealed a mean of 90 days and a standard deviation of 15 days. \n",
    "- A sample of 50 sales from office #2 revealed a mean of 100 days and a standard deviation of 20 days. \n",
    "## Use a .05 level of significance."
   ]
  },
  {
   "cell_type": "markdown",
   "id": "7a35b179",
   "metadata": {},
   "source": [
    "### Load the mpg dataset and use it to answer the following questions:"
   ]
  },
  {
   "cell_type": "markdown",
   "id": "d652f2c9",
   "metadata": {},
   "source": [
    "### Is there a difference in fuel-efficiency in cars from 2008 vs 1999?"
   ]
  },
  {
   "cell_type": "code",
   "execution_count": null,
   "id": "6a800062",
   "metadata": {},
   "outputs": [],
   "source": []
  },
  {
   "cell_type": "code",
   "execution_count": null,
   "id": "d60da9d6",
   "metadata": {},
   "outputs": [],
   "source": []
  },
  {
   "cell_type": "markdown",
   "id": "3579d987",
   "metadata": {},
   "source": [
    "### Are compact cars more fuel-efficient than the average car?"
   ]
  },
  {
   "cell_type": "code",
   "execution_count": null,
   "id": "7f393f68",
   "metadata": {},
   "outputs": [],
   "source": []
  },
  {
   "cell_type": "code",
   "execution_count": null,
   "id": "69dc5b23",
   "metadata": {},
   "outputs": [],
   "source": []
  },
  {
   "cell_type": "code",
   "execution_count": null,
   "id": "c638a667",
   "metadata": {},
   "outputs": [],
   "source": []
  },
  {
   "cell_type": "markdown",
   "id": "d08e525d",
   "metadata": {},
   "source": [
    "### Do manual cars get better gas mileage than automatic cars?"
   ]
  },
  {
   "cell_type": "code",
   "execution_count": null,
   "id": "b17e13b0",
   "metadata": {},
   "outputs": [],
   "source": []
  },
  {
   "cell_type": "code",
   "execution_count": null,
   "id": "3c1483d7",
   "metadata": {},
   "outputs": [],
   "source": []
  }
 ],
 "metadata": {
  "kernelspec": {
   "display_name": "Python 3",
   "language": "python",
   "name": "python3"
  },
  "language_info": {
   "codemirror_mode": {
    "name": "ipython",
    "version": 3
   },
   "file_extension": ".py",
   "mimetype": "text/x-python",
   "name": "python",
   "nbconvert_exporter": "python",
   "pygments_lexer": "ipython3",
   "version": "3.8.8"
  }
 },
 "nbformat": 4,
 "nbformat_minor": 5
}
