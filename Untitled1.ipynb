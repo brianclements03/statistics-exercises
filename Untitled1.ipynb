{
 "cells": [
  {
   "cell_type": "code",
   "execution_count": 8,
   "id": "21960c19",
   "metadata": {},
   "outputs": [],
   "source": [
    "from math import sqrt\n",
    "from scipy import stats\n",
    "\n",
    "import matplotlib.pyplot as plt\n",
    "import numpy as np\n",
    "import pandas as pd\n",
    "from pydataset import data\n",
    "import statistics"
   ]
  },
  {
   "cell_type": "markdown",
   "id": "dd98d19a",
   "metadata": {},
   "source": [
    "The clerks at the Walgreens on Houston Street have to tell every customer to take the survey that's printed on their receipt. \n",
    "\n",
    "Walgreens knows that only 10% of customers complete the survey. \n",
    "\n",
    "If Walgreens has 618 customers today, what is the likelihood that 70 or more people take the survey?"
   ]
  },
  {
   "cell_type": "code",
   "execution_count": 9,
   "id": "dd1ea2d1",
   "metadata": {},
   "outputs": [],
   "source": [
    "# this is an sf function\n",
    "# discrete--> yes/no answer, with a p of .1\n",
    "# uniform? binomial?\n",
    "\n",
    "# BINOMIAL"
   ]
  },
  {
   "cell_type": "code",
   "execution_count": 10,
   "id": "0d651512",
   "metadata": {},
   "outputs": [],
   "source": [
    "# Binomial Parameters:\n",
    "n_trials = 618\n",
    "p =  0.1  # probability of success\n",
    "\n",
    "walgreens = stats.binom(n_trials, p)"
   ]
  },
  {
   "cell_type": "code",
   "execution_count": 11,
   "id": "dd04e88c",
   "metadata": {},
   "outputs": [
    {
     "data": {
      "text/plain": [
       "0.15107528710211096"
      ]
     },
     "execution_count": 11,
     "metadata": {},
     "output_type": "execute_result"
    }
   ],
   "source": [
    "walgreens.sf(69)"
   ]
  },
  {
   "cell_type": "code",
   "execution_count": null,
   "id": "177bef26",
   "metadata": {},
   "outputs": [],
   "source": []
  },
  {
   "cell_type": "markdown",
   "id": "6efa4829",
   "metadata": {},
   "source": [
    "Assume that the time it takes to order and eat the burger special at the Esquire is \n",
    "\n",
    "normally distributed with a \n",
    "\n",
    "mean of 40 minutes and a \n",
    "\n",
    "standard deviation of 15 minutes. \n",
    "\n",
    "If it takes 5 minutes to walk from Codeup to the restaurant, \n",
    "\n",
    "what is the likelihood that you can go eat at The Esquire during your lunch hour and not be late back to class?"
   ]
  },
  {
   "cell_type": "code",
   "execution_count": 12,
   "id": "63792253",
   "metadata": {},
   "outputs": [
    {
     "data": {
      "text/plain": [
       "<scipy.stats._distn_infrastructure.rv_frozen at 0x7fcb216a1220>"
      ]
     },
     "execution_count": 12,
     "metadata": {},
     "output_type": "execute_result"
    }
   ],
   "source": [
    "μ = 40\n",
    "σ = 15\n",
    "\n",
    "walking = 10 # which is 5 * 2\n",
    "\n",
    "lunch = stats.norm(μ, σ)\n",
    "lunch"
   ]
  },
  {
   "cell_type": "code",
   "execution_count": 13,
   "id": "391afb9d",
   "metadata": {},
   "outputs": [
    {
     "data": {
      "text/plain": [
       "0.7475074624530771"
      ]
     },
     "execution_count": 13,
     "metadata": {},
     "output_type": "execute_result"
    }
   ],
   "source": [
    "lunch.cdf(50)\n",
    "#cdf for likelihood below 60 minutes, but add 10 minutes for walking"
   ]
  },
  {
   "cell_type": "code",
   "execution_count": 14,
   "id": "ee72e80c",
   "metadata": {},
   "outputs": [
    {
     "data": {
      "text/plain": [
       "<matplotlib.lines.Line2D at 0x7fcb1e8305b0>"
      ]
     },
     "execution_count": 14,
     "metadata": {},
     "output_type": "execute_result"
    },
    {
     "data": {
      "image/png": "[encoded data removed]",
      "text/plain": [
       "<Figure size 432x288 with 1 Axes>"
      ]
     },
     "metadata": {
      "needs_background": "light"
     },
     "output_type": "display_data"
    }
   ],
   "source": [
    "x=np.arange(0,90,.1)\n",
    "y=stats.norm(μ,σ).pdf(x)\n",
    "\n",
    "plt.plot(x,y)\n",
    "plt.axvline(50,ls='--')"
   ]
  },
  {
   "cell_type": "code",
   "execution_count": 15,
   "id": "36804c52",
   "metadata": {},
   "outputs": [
    {
     "data": {
      "text/plain": [
       "43.16242198613419"
      ]
     },
     "execution_count": 15,
     "metadata": {},
     "output_type": "execute_result"
    }
   ],
   "source": [
    "np.random.normal(40,15)"
   ]
  },
  {
   "cell_type": "code",
   "execution_count": 16,
   "id": "69eca45a",
   "metadata": {},
   "outputs": [
    {
     "data": {
      "text/plain": [
       "0.74674"
      ]
     },
     "execution_count": 16,
     "metadata": {},
     "output_type": "execute_result"
    }
   ],
   "source": [
    "(np.random.normal(40,15,100_000) <= 50).mean()"
   ]
  },
  {
   "cell_type": "code",
   "execution_count": 19,
   "id": "cec9b230",
   "metadata": {},
   "outputs": [
    {
     "data": {
      "text/plain": [
       "40.093858322216676"
      ]
     },
     "execution_count": 19,
     "metadata": {},
     "output_type": "execute_result"
    }
   ],
   "source": [
    "# or\n",
    "lunch_time = stats.norm(μ, σ).rvs(100_000)\n",
    "lunch_time.mean()"
   ]
  },
  {
   "cell_type": "code",
   "execution_count": null,
   "id": "7decb434",
   "metadata": {},
   "outputs": [],
   "source": []
  },
  {
   "cell_type": "code",
   "execution_count": null,
   "id": "0db18420",
   "metadata": {},
   "outputs": [],
   "source": []
  },
  {
   "cell_type": "code",
   "execution_count": null,
   "id": "e0f4b1bc",
   "metadata": {},
   "outputs": [],
   "source": []
  }
 ],
 "metadata": {
  "kernelspec": {
   "display_name": "Python 3",
   "language": "python",
   "name": "python3"
  },
  "language_info": {
   "codemirror_mode": {
    "name": "ipython",
    "version": 3
   },
   "file_extension": ".py",
   "mimetype": "text/x-python",
   "name": "python",
   "nbconvert_exporter": "python",
   "pygments_lexer": "ipython3",
   "version": "3.8.8"
  }
 },
 "nbformat": 4,
 "nbformat_minor": 5
}
